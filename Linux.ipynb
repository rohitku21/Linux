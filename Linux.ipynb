{
  "nbformat": 4,
  "nbformat_minor": 0,
  "metadata": {
    "colab": {
      "provenance": []
    },
    "kernelspec": {
      "name": "python3",
      "display_name": "Python 3"
    },
    "language_info": {
      "name": "python"
    }
  },
  "cells": [
    {
      "cell_type": "markdown",
      "source": [
        "#Linux"
      ],
      "metadata": {
        "id": "Dsm2orqaVq9s"
      }
    },
    {
      "cell_type": "markdown",
      "source": [
        "#1. What is Linux?\n",
        " - Linux is an open-source operating system that manages computer hardware and software resources. Unlike proprietary operating systems like Windows or macOS, its source code is freely available, allowing anyone to use, modify, and distribute it."
      ],
      "metadata": {
        "id": "U9unNBbnVtSU"
      }
    },
    {
      "cell_type": "markdown",
      "source": [
        "#2. What is the difference between Hard Link & Soft Link?\n",
        " - Hard Link:\n",
        "A hard link is a direct pointer to the actual data (inode) on the disk. Think of it as creating an additional name or entry for the exact same file content. All hard links to a file share the same inode number. Deleting one hard link doesn't remove the data until all links pointing to that data are gone. They cannot link to directories and cannot span across different file systems.\n",
        "\n",
        "Example: If fileA is a hard link to fileB, modifying fileA also changes fileB, and deleting fileA leaves fileB intact.\n",
        "\n",
        " # -Soft Link:\n",
        " -A soft link (or symbolic link) is a special file that contains the path to another file or directory. It's like a shortcut. A soft link has its own unique inode. If the original file or directory it points to is moved or deleted, the soft link will \"break\" and become a \"dangling link\" pointing to a non-existent target. Soft links can link to directories and can span across different file systems.\n",
        "\n",
        "\n",
        "Example: If shortcutA is a soft link to originalFile.txt, opening shortcutA opens originalFile.txt. If originalFile.txt is deleted, shortcutA will no longer work."
      ],
      "metadata": {
        "id": "_fPGyPFqWf-t"
      }
    },
    {
      "cell_type": "markdown",
      "source": [
        "#3. What is a Kernel in Linux?\n",
        " - A Kernel in Linux is the core component of the operating system that directly interacts with the computer's hardware. It acts as a bridge between software applications and the hardware, managing critical tasks like CPU scheduling, memory allocation, device input/output, and file system operations."
      ],
      "metadata": {
        "id": "8G9aUCjIYMNl"
      }
    },
    {
      "cell_type": "markdown",
      "source": [
        "# 4. How do you create a user account?\n",
        " - Using \"adduser\"\n",
        "This command is more user-friendly and interactive. It automatically handles creating the home directory, copying default configuration files, and setting up a primary group for the user.\n",
        "\n",
        "   command :sudo adduser [username]"
      ],
      "metadata": {
        "id": "K3ki1UDhY6ET"
      }
    },
    {
      "cell_type": "markdown",
      "source": [
        "# 5. What is the ‘grep’ command used for in Linux?\n",
        " - The grep command in Linux is a powerful command-line utility used for searching plain-text data sets for lines that match a regular expression or pattern.\n",
        "\n",
        " command: grep 'error'\n",
        "          grep -i 'error'"
      ],
      "metadata": {
        "id": "OBNKb-fPZzyM"
      }
    },
    {
      "cell_type": "code",
      "source": [
        "# 6. Step1: Create user p1\n",
        "#Step2: He should be part of 3 groups g1,g2,g3.\n",
        "#Step3: whenever he creates a file automatically in the group section of file grp g1 should come.\n",
        "\n",
        "\"\"\"\n",
        "Step 1: Create user p1\n",
        " - sudo useradd p1\n",
        "\n",
        "Step 2: Add user p1 to groups g1, g2, and g3.\n",
        " - sudo groupadd g1\n",
        " - sudo groupadd g2\n",
        " - sudo groupadd g3\n",
        "\n",
        " Now adding user p1 to all three groups.\n",
        "  - sudo usermod -aG g1,g2,g3 p1\n",
        "\n",
        "Step3: whenever he creates a file automatically in the group section of file grp g1 should come.\n",
        " - sudo usermod -g g1 p1 (Setting g1 as the primary group of the user This ensures all new files will be owned by group g1 by default\n",
        "\n",
        "\"\"\"\n",
        "\n"
      ],
      "metadata": {
        "colab": {
          "base_uri": "https://localhost:8080/",
          "height": 70
        },
        "id": "ScrQTvoscWWA",
        "outputId": "5ac7f934-e69e-4b2c-ab0a-cff5332e03ce"
      },
      "execution_count": 1,
      "outputs": [
        {
          "output_type": "execute_result",
          "data": {
            "text/plain": [
              "'\\nStep 1: Create user p1\\n - sudo useradd p1\\n\\nStep 2: Add user p1 to groups g1, g2, and g3.\\n - sudo groupadd g1\\n - sudo groupadd g2\\n - sudo groupadd g3\\n\\n Now adding user p1 to all three groups.\\n  - sudo usermod -aG g1,g2,g3 p1\\n\\nStep3: whenever he creates a file automatically in the group section of file grp g1 should come.\\n - sudo usermod -g g1 p1 (Setting g1 as the primary group of the user This ensures all new files will be owned by group g1 by default\\n\\n'"
            ],
            "application/vnd.google.colaboratory.intrinsic+json": {
              "type": "string"
            }
          },
          "metadata": {},
          "execution_count": 1
        }
      ]
    },
    {
      "cell_type": "code",
      "source": [
        "# 7. Step1: Create directory /tmp/bg as root user and create files inside it.\n",
        "\n",
        "#Step2: “abhi” should be the owner of the directory. He should be able to create files and delete files inside\n",
        "\n",
        "#the directory and also he should be able to add content to all files inside the directory.\n",
        "\n",
        "\"\"\"\n",
        "\n",
        "Step 1: Creating the directory and files\n",
        "\n",
        " - sudo mkdir /tmp/bg\n",
        " - sudo touch /tmp/bg/file1 /tmp/bg/file2 /tmp/bg/file3\n",
        "\n",
        "Step 2: Creating the user abhi.\n",
        "\n",
        " - sudo useradd abhi\n",
        "# Optionally setting a password\n",
        " - sudo passwd abhi\n",
        "\n",
        "Step 3: Make abhi the owner of the directory\n",
        "\n",
        " - sudo chown abhi /tmp/bg\n",
        "\n",
        "Step 4: Ensuring proper permissions on the directory\n",
        "\n",
        "# Giving abhi full permissions on the directory\n",
        " - sudo chmod 700 /tmp/bg\n",
        "\n",
        "# Give abhi write permissions on all files inside\n",
        " - sudo chown abhi /tmp/bg/*\n",
        " - sudo chmod 600 /tmp/bg/*\n"
      ],
      "metadata": {
        "id": "XNW2gvoXei-M"
      },
      "execution_count": null,
      "outputs": []
    },
    {
      "cell_type": "code",
      "source": [
        "# 8. You suspect that a particular process is consuming excessive CPU resources on your Linux server. How would you identify and terminate this process?\n",
        "'''\n",
        "  To identify and terminate a high CPU-usage process on a Linux server, I would follow these steps.\n",
        "\n",
        "  step 1. I will hit \"top\" command.\n",
        "\n",
        "  This will show a live list of processes.\n",
        "  Then Look under the %CPU column to identify the process.\n",
        "  Then Note the PID of the process with high CPU.\n",
        "\n",
        "  Then will kill the process.\n",
        "\n",
        "  sudo kill -9 <PID>\n",
        "\n",
        "'''"
      ],
      "metadata": {
        "colab": {
          "base_uri": "https://localhost:8080/",
          "height": 70
        },
        "id": "T51Pk5D9hCY6",
        "outputId": "0b92695e-83d9-4345-e556-1b8b65431707"
      },
      "execution_count": 3,
      "outputs": [
        {
          "output_type": "execute_result",
          "data": {
            "text/plain": [
              "'\\n  To identify and terminate a high CPU-usage process on a Linux server, I would follow these steps.\\n\\n  step 1. I will hit \"top\" command.\\n\\n  This will show a live list of processes. \\n  Then Look under the %CPU column to identify the process.\\n  Then Note the PID of the process with high CPU.\\n\\n  Then will kill the process.\\n\\n  sudo kill -9 <PID>\\n\\n'"
            ],
            "application/vnd.google.colaboratory.intrinsic+json": {
              "type": "string"
            }
          },
          "metadata": {},
          "execution_count": 3
        }
      ]
    }
  ]
}